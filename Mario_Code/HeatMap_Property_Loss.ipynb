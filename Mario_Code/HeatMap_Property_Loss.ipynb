{
 "cells": [
  {
   "cell_type": "code",
   "execution_count": 13,
   "metadata": {},
   "outputs": [
    {
     "name": "stdout",
     "output_type": "stream",
     "text": [
      "Requirement already satisfied: us in /anaconda3/lib/python3.7/site-packages (1.0.0)\r\n",
      "Requirement already satisfied: jellyfish==0.5.6 in /anaconda3/lib/python3.7/site-packages (from us) (0.5.6)\r\n"
     ]
    }
   ],
   "source": [
    "!pip install us"
   ]
  },
  {
   "cell_type": "code",
   "execution_count": 2,
   "metadata": {},
   "outputs": [],
   "source": [
    "# Dependencies\n",
    "import gmaps\n",
    "import numpy as np\n",
    "import pandas as pd\n",
    "import requests\n",
    "import time\n",
    "from us import states\n",
    "\n",
    "# Census & gmaps API Keys\n",
    "import sys\n",
    "sys.path.append('../../')\n",
    "from config import gkey\n"
   ]
  },
  {
   "cell_type": "code",
   "execution_count": 3,
   "metadata": {},
   "outputs": [
    {
     "data": {
      "text/html": [
       "<div>\n",
       "<style scoped>\n",
       "    .dataframe tbody tr th:only-of-type {\n",
       "        vertical-align: middle;\n",
       "    }\n",
       "\n",
       "    .dataframe tbody tr th {\n",
       "        vertical-align: top;\n",
       "    }\n",
       "\n",
       "    .dataframe thead th {\n",
       "        text-align: right;\n",
       "    }\n",
       "</style>\n",
       "<table border=\"1\" class=\"dataframe\">\n",
       "  <thead>\n",
       "    <tr style=\"text-align: right;\">\n",
       "      <th></th>\n",
       "      <th>Tornado Number per Year</th>\n",
       "      <th>Year</th>\n",
       "      <th>Month</th>\n",
       "      <th>Day</th>\n",
       "      <th>Date</th>\n",
       "      <th>Time</th>\n",
       "      <th>TimeZone</th>\n",
       "      <th>State</th>\n",
       "      <th>State FIPS Number</th>\n",
       "      <th>Number of Tornado per State per Year</th>\n",
       "      <th>...</th>\n",
       "      <th>Fatalities</th>\n",
       "      <th>Property Loss ($)</th>\n",
       "      <th>Crop Loss (millions $)</th>\n",
       "      <th>Starting Latitude</th>\n",
       "      <th>Starting Longitude</th>\n",
       "      <th>Ending Latitude</th>\n",
       "      <th>Ending Longitude</th>\n",
       "      <th>Length (miles)</th>\n",
       "      <th>Width (yards)</th>\n",
       "      <th>fc</th>\n",
       "    </tr>\n",
       "  </thead>\n",
       "  <tbody>\n",
       "    <tr>\n",
       "      <th>0</th>\n",
       "      <td>1</td>\n",
       "      <td>1950</td>\n",
       "      <td>1</td>\n",
       "      <td>3</td>\n",
       "      <td>1/3/1950</td>\n",
       "      <td>11:00:00</td>\n",
       "      <td>3</td>\n",
       "      <td>MO</td>\n",
       "      <td>29</td>\n",
       "      <td>1</td>\n",
       "      <td>...</td>\n",
       "      <td>0</td>\n",
       "      <td>6.0</td>\n",
       "      <td>0.0</td>\n",
       "      <td>38.77</td>\n",
       "      <td>-90.22</td>\n",
       "      <td>38.83</td>\n",
       "      <td>-90.03</td>\n",
       "      <td>9.5</td>\n",
       "      <td>150</td>\n",
       "      <td>0</td>\n",
       "    </tr>\n",
       "    <tr>\n",
       "      <th>1</th>\n",
       "      <td>2</td>\n",
       "      <td>1950</td>\n",
       "      <td>1</td>\n",
       "      <td>3</td>\n",
       "      <td>1/3/1950</td>\n",
       "      <td>11:55:00</td>\n",
       "      <td>3</td>\n",
       "      <td>IL</td>\n",
       "      <td>17</td>\n",
       "      <td>2</td>\n",
       "      <td>...</td>\n",
       "      <td>0</td>\n",
       "      <td>5.0</td>\n",
       "      <td>0.0</td>\n",
       "      <td>39.10</td>\n",
       "      <td>-89.30</td>\n",
       "      <td>39.12</td>\n",
       "      <td>-89.23</td>\n",
       "      <td>3.6</td>\n",
       "      <td>130</td>\n",
       "      <td>0</td>\n",
       "    </tr>\n",
       "    <tr>\n",
       "      <th>2</th>\n",
       "      <td>3</td>\n",
       "      <td>1950</td>\n",
       "      <td>1</td>\n",
       "      <td>3</td>\n",
       "      <td>1/3/1950</td>\n",
       "      <td>16:00:00</td>\n",
       "      <td>3</td>\n",
       "      <td>OH</td>\n",
       "      <td>39</td>\n",
       "      <td>1</td>\n",
       "      <td>...</td>\n",
       "      <td>0</td>\n",
       "      <td>4.0</td>\n",
       "      <td>0.0</td>\n",
       "      <td>40.88</td>\n",
       "      <td>-84.58</td>\n",
       "      <td>0.00</td>\n",
       "      <td>0.00</td>\n",
       "      <td>0.1</td>\n",
       "      <td>10</td>\n",
       "      <td>0</td>\n",
       "    </tr>\n",
       "    <tr>\n",
       "      <th>3</th>\n",
       "      <td>4</td>\n",
       "      <td>1950</td>\n",
       "      <td>1</td>\n",
       "      <td>13</td>\n",
       "      <td>1/13/1950</td>\n",
       "      <td>5:25:00</td>\n",
       "      <td>3</td>\n",
       "      <td>AR</td>\n",
       "      <td>5</td>\n",
       "      <td>1</td>\n",
       "      <td>...</td>\n",
       "      <td>1</td>\n",
       "      <td>3.0</td>\n",
       "      <td>0.0</td>\n",
       "      <td>34.40</td>\n",
       "      <td>-94.37</td>\n",
       "      <td>0.00</td>\n",
       "      <td>0.00</td>\n",
       "      <td>0.6</td>\n",
       "      <td>17</td>\n",
       "      <td>0</td>\n",
       "    </tr>\n",
       "    <tr>\n",
       "      <th>4</th>\n",
       "      <td>5</td>\n",
       "      <td>1950</td>\n",
       "      <td>1</td>\n",
       "      <td>25</td>\n",
       "      <td>1/25/1950</td>\n",
       "      <td>19:30:00</td>\n",
       "      <td>3</td>\n",
       "      <td>MO</td>\n",
       "      <td>29</td>\n",
       "      <td>2</td>\n",
       "      <td>...</td>\n",
       "      <td>0</td>\n",
       "      <td>5.0</td>\n",
       "      <td>0.0</td>\n",
       "      <td>37.60</td>\n",
       "      <td>-90.68</td>\n",
       "      <td>37.63</td>\n",
       "      <td>-90.65</td>\n",
       "      <td>2.3</td>\n",
       "      <td>300</td>\n",
       "      <td>0</td>\n",
       "    </tr>\n",
       "  </tbody>\n",
       "</table>\n",
       "<p>5 rows × 22 columns</p>\n",
       "</div>"
      ],
      "text/plain": [
       "   Tornado Number per Year  Year  Month  Day       Date      Time  TimeZone  \\\n",
       "0                        1  1950      1    3   1/3/1950  11:00:00         3   \n",
       "1                        2  1950      1    3   1/3/1950  11:55:00         3   \n",
       "2                        3  1950      1    3   1/3/1950  16:00:00         3   \n",
       "3                        4  1950      1   13  1/13/1950   5:25:00         3   \n",
       "4                        5  1950      1   25  1/25/1950  19:30:00         3   \n",
       "\n",
       "  State  State FIPS Number  Number of Tornado per State per Year ...  \\\n",
       "0    MO                 29                                     1 ...   \n",
       "1    IL                 17                                     2 ...   \n",
       "2    OH                 39                                     1 ...   \n",
       "3    AR                  5                                     1 ...   \n",
       "4    MO                 29                                     2 ...   \n",
       "\n",
       "   Fatalities  Property Loss ($)  Crop Loss (millions $)  Starting Latitude  \\\n",
       "0           0                6.0                     0.0              38.77   \n",
       "1           0                5.0                     0.0              39.10   \n",
       "2           0                4.0                     0.0              40.88   \n",
       "3           1                3.0                     0.0              34.40   \n",
       "4           0                5.0                     0.0              37.60   \n",
       "\n",
       "   Starting Longitude  Ending Latitude  Ending Longitude  Length (miles)  \\\n",
       "0              -90.22            38.83            -90.03             9.5   \n",
       "1              -89.30            39.12            -89.23             3.6   \n",
       "2              -84.58             0.00              0.00             0.1   \n",
       "3              -94.37             0.00              0.00             0.6   \n",
       "4              -90.68            37.63            -90.65             2.3   \n",
       "\n",
       "   Width (yards)  fc  \n",
       "0            150   0  \n",
       "1            130   0  \n",
       "2             10   0  \n",
       "3             17   0  \n",
       "4            300   0  \n",
       "\n",
       "[5 rows x 22 columns]"
      ]
     },
     "execution_count": 3,
     "metadata": {},
     "output_type": "execute_result"
    }
   ],
   "source": [
    "tornado_pd = pd.read_csv(\"../CSV-Data/Tornado_Data_1950to2015.csv\")\n",
    "tornado_pd.head()\n",
    "\n"
   ]
  },
  {
   "cell_type": "code",
   "execution_count": 4,
   "metadata": {},
   "outputs": [
    {
     "data": {
      "text/html": [
       "<div>\n",
       "<style scoped>\n",
       "    .dataframe tbody tr th:only-of-type {\n",
       "        vertical-align: middle;\n",
       "    }\n",
       "\n",
       "    .dataframe tbody tr th {\n",
       "        vertical-align: top;\n",
       "    }\n",
       "\n",
       "    .dataframe thead th {\n",
       "        text-align: right;\n",
       "    }\n",
       "</style>\n",
       "<table border=\"1\" class=\"dataframe\">\n",
       "  <thead>\n",
       "    <tr style=\"text-align: right;\">\n",
       "      <th></th>\n",
       "      <th>Year</th>\n",
       "      <th>Lat</th>\n",
       "      <th>Lng</th>\n",
       "      <th>Property Loss ($)</th>\n",
       "    </tr>\n",
       "  </thead>\n",
       "  <tbody>\n",
       "    <tr>\n",
       "      <th>0</th>\n",
       "      <td>1950</td>\n",
       "      <td>38.77</td>\n",
       "      <td>-90.22</td>\n",
       "      <td>6.0</td>\n",
       "    </tr>\n",
       "    <tr>\n",
       "      <th>1</th>\n",
       "      <td>1950</td>\n",
       "      <td>39.10</td>\n",
       "      <td>-89.30</td>\n",
       "      <td>5.0</td>\n",
       "    </tr>\n",
       "    <tr>\n",
       "      <th>2</th>\n",
       "      <td>1950</td>\n",
       "      <td>40.88</td>\n",
       "      <td>-84.58</td>\n",
       "      <td>4.0</td>\n",
       "    </tr>\n",
       "    <tr>\n",
       "      <th>3</th>\n",
       "      <td>1950</td>\n",
       "      <td>34.40</td>\n",
       "      <td>-94.37</td>\n",
       "      <td>3.0</td>\n",
       "    </tr>\n",
       "    <tr>\n",
       "      <th>4</th>\n",
       "      <td>1950</td>\n",
       "      <td>37.60</td>\n",
       "      <td>-90.68</td>\n",
       "      <td>5.0</td>\n",
       "    </tr>\n",
       "  </tbody>\n",
       "</table>\n",
       "</div>"
      ],
      "text/plain": [
       "   Year    Lat    Lng  Property Loss ($)\n",
       "0  1950  38.77 -90.22                6.0\n",
       "1  1950  39.10 -89.30                5.0\n",
       "2  1950  40.88 -84.58                4.0\n",
       "3  1950  34.40 -94.37                3.0\n",
       "4  1950  37.60 -90.68                5.0"
      ]
     },
     "execution_count": 4,
     "metadata": {},
     "output_type": "execute_result"
    }
   ],
   "source": [
    "t_year_df = tornado_pd.rename(columns= {\"Starting Latitude\": \"Lat\", \"Starting Longitude\": \"Lng\"})\n",
    "\n",
    "t_year_df = t_year_df[[\"Year\", \"Lat\", \"Lng\", \"Property Loss ($)\"]]\n",
    "\n",
    "tornado06_07_df = t_year_df.loc[t_year_df[\"Year\"].isin([2006, 2007])]\n",
    "tornado08_09_df = t_year_df.loc[t_year_df[\"Year\"].isin([2008, 2009])]\n",
    "tornado10_11_df = t_year_df.loc[t_year_df[\"Year\"].isin([2010, 2011])]\n",
    "tornado12_13_df = t_year_df.loc[t_year_df[\"Year\"].isin([2012, 2013])]\n",
    "tornado14_15_df = t_year_df.loc[t_year_df[\"Year\"].isin([2014, 2015])]\n",
    "t_year_df.head()\n"
   ]
  },
  {
   "cell_type": "code",
   "execution_count": 5,
   "metadata": {},
   "outputs": [],
   "source": [
    "gmaps.configure(api_key=gkey)"
   ]
  },
  {
   "cell_type": "code",
   "execution_count": 6,
   "metadata": {},
   "outputs": [
    {
     "data": {
      "application/vnd.jupyter.widget-view+json": {
       "model_id": "8ede403c7d1c43d1aa4a8fc8e25d67ee",
       "version_major": 2,
       "version_minor": 0
      },
      "text/plain": [
       "Figure(layout=FigureLayout(height='420px'))"
      ]
     },
     "metadata": {},
     "output_type": "display_data"
    }
   ],
   "source": [
    "locations_total = t_year_df[[\"Lat\", \"Lng\"]].astype(float)\n",
    "fig = gmaps.figure()\n",
    "\n",
    "heat_layer = gmaps.heatmap_layer(locations_total, weights=t_year_df[\"Property Loss ($)\"], dissipating=False, max_intensity=100, point_radius = 1)\n",
    "\n",
    "heat_layer.dissipating = False\n",
    "heat_layer.max_intensity = 100\n",
    "heat_layer.point_radius = 1\n",
    "\n",
    "fig.add_layer(heat_layer)\n",
    "\n",
    "fig"
   ]
  },
  {
   "cell_type": "code",
   "execution_count": 19,
   "metadata": {},
   "outputs": [
    {
     "data": {
      "application/vnd.jupyter.widget-view+json": {
       "model_id": "49eefba6bf6c4ceabd09e4b17f147228",
       "version_major": 2,
       "version_minor": 0
      },
      "text/plain": [
       "Figure(layout=FigureLayout(height='420px'))"
      ]
     },
     "metadata": {},
     "output_type": "display_data"
    }
   ],
   "source": [
    "locations06_07 = tornado06_07_df[[\"Lat\", \"Lng\"]].astype(float)\n",
    "fig06_07 = gmaps.figure()\n",
    "\n",
    "heat_layer = gmaps.heatmap_layer(locations06_07, weights=tornado06_07_df[\"Property Loss ($)\"], dissipating=False, max_intensity=100, point_radius = 1)\n",
    "\n",
    "heat_layer.dissipating = False\n",
    "heat_layer.max_intensity = 25\n",
    "heat_layer.point_radius = 1\n",
    "\n",
    "fig06_07.add_layer(heat_layer)\n",
    "\n",
    "fig06_07"
   ]
  },
  {
   "cell_type": "code",
   "execution_count": 22,
   "metadata": {},
   "outputs": [
    {
     "data": {
      "application/vnd.jupyter.widget-view+json": {
       "model_id": "1a99fb22f5844abc86fcc10e51ee2b9e",
       "version_major": 2,
       "version_minor": 0
      },
      "text/plain": [
       "Figure(layout=FigureLayout(height='420px'))"
      ]
     },
     "metadata": {},
     "output_type": "display_data"
    }
   ],
   "source": [
    "locations08_09 = tornado08_09_df[[\"Lat\", \"Lng\"]].astype(float)\n",
    "fig08_09 = gmaps.figure()\n",
    "\n",
    "heat_layer = gmaps.heatmap_layer(locations08_09, weights=tornado08_09_df[\"Property Loss ($)\"], dissipating=False, max_intensity=100, point_radius = 1)\n",
    "\n",
    "heat_layer.dissipating = False\n",
    "heat_layer.max_intensity = 25\n",
    "heat_layer.point_radius = 1\n",
    "\n",
    "fig08_09.add_layer(heat_layer)\n",
    "\n",
    "fig08_09"
   ]
  },
  {
   "cell_type": "code",
   "execution_count": 23,
   "metadata": {},
   "outputs": [
    {
     "data": {
      "application/vnd.jupyter.widget-view+json": {
       "model_id": "9c465e6798184f77a7e6f3171255c168",
       "version_major": 2,
       "version_minor": 0
      },
      "text/plain": [
       "Figure(layout=FigureLayout(height='420px'))"
      ]
     },
     "metadata": {},
     "output_type": "display_data"
    }
   ],
   "source": [
    "locations10_11 = tornado10_11_df[[\"Lat\", \"Lng\"]].astype(float)\n",
    "fig10_11 = gmaps.figure()\n",
    "\n",
    "heat_layer = gmaps.heatmap_layer(locations10_11, weights=tornado10_11_df[\"Property Loss ($)\"], dissipating=False, max_intensity=100, point_radius = 1)\n",
    "\n",
    "heat_layer.dissipating = False\n",
    "heat_layer.max_intensity = 25\n",
    "heat_layer.point_radius = 1\n",
    "\n",
    "fig10_11.add_layer(heat_layer)\n",
    "\n",
    "fig10_11"
   ]
  },
  {
   "cell_type": "code",
   "execution_count": 24,
   "metadata": {},
   "outputs": [
    {
     "data": {
      "application/vnd.jupyter.widget-view+json": {
       "model_id": "f425599400064338bf4b4a7371fd937e",
       "version_major": 2,
       "version_minor": 0
      },
      "text/plain": [
       "Figure(layout=FigureLayout(height='420px'))"
      ]
     },
     "metadata": {},
     "output_type": "display_data"
    }
   ],
   "source": [
    "locations12_13 = tornado12_13_df[[\"Lat\", \"Lng\"]].astype(float)\n",
    "fig12_13 = gmaps.figure()\n",
    "\n",
    "heat_layer = gmaps.heatmap_layer(locations12_13, weights=tornado12_13_df[\"Property Loss ($)\"], dissipating=False, max_intensity=100, point_radius = 1)\n",
    "\n",
    "heat_layer.dissipating = False\n",
    "heat_layer.max_intensity = 25\n",
    "heat_layer.point_radius = 1\n",
    "\n",
    "fig12_13.add_layer(heat_layer)\n",
    "\n",
    "fig12_13"
   ]
  },
  {
   "cell_type": "code",
   "execution_count": 25,
   "metadata": {},
   "outputs": [
    {
     "data": {
      "application/vnd.jupyter.widget-view+json": {
       "model_id": "0a5e65e366e7491f923ac3617c798eb6",
       "version_major": 2,
       "version_minor": 0
      },
      "text/plain": [
       "Figure(layout=FigureLayout(height='420px'))"
      ]
     },
     "metadata": {},
     "output_type": "display_data"
    }
   ],
   "source": [
    "locations14_15 = tornado14_15_df[[\"Lat\", \"Lng\"]].astype(float)\n",
    "fig14_15 = gmaps.figure()\n",
    "\n",
    "heat_layer = gmaps.heatmap_layer(locations14_15, weights=tornado14_15_df[\"Property Loss ($)\"], dissipating=False, max_intensity=100, point_radius = 1)\n",
    "\n",
    "heat_layer.dissipating = False\n",
    "heat_layer.max_intensity = 25\n",
    "heat_layer.point_radius = 1\n",
    "\n",
    "fig14_15.add_layer(heat_layer)\n",
    "\n",
    "fig14_15"
   ]
  }
 ],
 "metadata": {
  "kernelspec": {
   "display_name": "Python 3",
   "language": "python",
   "name": "python3"
  },
  "language_info": {
   "codemirror_mode": {
    "name": "ipython",
    "version": 3
   },
   "file_extension": ".py",
   "mimetype": "text/x-python",
   "name": "python",
   "nbconvert_exporter": "python",
   "pygments_lexer": "ipython3",
   "version": "3.7.0"
  }
 },
 "nbformat": 4,
 "nbformat_minor": 2
}
