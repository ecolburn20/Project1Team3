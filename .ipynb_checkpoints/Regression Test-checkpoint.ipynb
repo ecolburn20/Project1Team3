{
 "cells": [
  {
   "cell_type": "code",
   "execution_count": 1,
   "metadata": {},
   "outputs": [],
   "source": [
    "import sys\n",
    "sys.path.append('')\n",
    "import json\n",
    "import requests\n",
    "import csv\n",
    "import matplotlib.pyplot as plt\n",
    "import pandas as pd\n",
    "import numpy as np\n",
    "import matplotlib.cm as cm\n",
    "import matplotlib.colors as colors\n",
    "from pprint import pprint\n",
    "from config import weather\n",
    "from datetime import datetime, timezone, timedelta\n",
    "from sklearn.model_selection import train_test_split\n",
    "from sklearn import datasets, linear_model\n",
    "import statsmodels.api as sm\n",
    "from scipy import stats"
   ]
  },
  {
   "cell_type": "code",
   "execution_count": 2,
   "metadata": {},
   "outputs": [],
   "source": [
    "data0 = pd.read_excel('Tornado_Data_2009to2015_byMag.xlsx','Mag0')\n",
    "data1 = pd.read_excel('Tornado_Data_2009to2015_byMag.xlsx','Mag1')\n",
    "data2 = pd.read_excel('Tornado_Data_2009to2015_byMag.xlsx','Mag2')\n",
    "data3 = pd.read_excel('Tornado_Data_2009to2015_byMag.xlsx','Mag3')\n",
    "data4 = pd.read_excel('Tornado_Data_2009to2015_byMag.xlsx','Mag4')\n",
    "data5 = pd.read_excel('Tornado_Data_2009to2015_byMag.xlsx','Mag5')\n",
    "data0_sample = data0.sample(225)\n",
    "data1_sample = data1.sample(127)\n",
    "data2_sample = data2.sample(35)\n",
    "data3_sample = data3.sample(11)\n",
    "data4_sample = data4\n",
    "data5_sample = data5\n",
    "\n",
    "data = pd.concat([data0_sample, data1_sample, data2_sample, data3_sample, data4_sample, data5_sample])\n"
   ]
  },
  {
   "cell_type": "code",
   "execution_count": 3,
   "metadata": {},
   "outputs": [
    {
     "data": {
      "text/plain": [
       "(459, 22)"
      ]
     },
     "execution_count": 3,
     "metadata": {},
     "output_type": "execute_result"
    }
   ],
   "source": [
    "\n",
    "test = data\n",
    "test.shape\n",
    "#test = data.iloc[25:51]"
   ]
  },
  {
   "cell_type": "code",
   "execution_count": 4,
   "metadata": {},
   "outputs": [],
   "source": [
    "\n",
    "#putting coordinates into a list\n",
    "coordinates = test[['Starting Latitude', 'Starting Longitude']]\n",
    "#print(coordinates)\n",
    "coord_list = []\n",
    "for index, row in coordinates.iterrows():\n",
    "    y = row['Starting Latitude']\n",
    "    z = row['Starting Longitude']\n",
    "    a = (y,z)\n",
    "    coord_list.append(a)\n"
   ]
  },
  {
   "cell_type": "code",
   "execution_count": 5,
   "metadata": {},
   "outputs": [],
   "source": [
    "#putting dates into list\n",
    "\n",
    "start_date = []\n",
    "end_date = []\n",
    "\n",
    "for index, row in test[['Year','Month','Day','Date']].iterrows():\n",
    "    year = row['Year']\n",
    "    month = row['Month']\n",
    "    day = row['Day']\n",
    "    e = datetime(year,month,day)-timedelta(3)\n",
    "    e= e.strftime('%Y-%m-%d')\n",
    "    end_date.append(e)\n",
    "    s = datetime(year,month,day)\n",
    "    s= s.strftime('%Y-%m-%d')\n",
    "    start_date.append(s)"
   ]
  },
  {
   "cell_type": "code",
   "execution_count": 6,
   "metadata": {},
   "outputs": [],
   "source": [
    "# df to add weather data to\n",
    "f = pd.DataFrame()\n",
    "f['Magnitude'] = test['Magnitude']\n",
    "f['Start Date'] = start_date\n",
    "f['End Date'] = end_date\n",
    "f['coord'] = coord_list\n",
    "f['Max Temp (F)'] = ''\n",
    "f['Min Temp (F)'] = ''\n",
    "f['Wind Speed (mph)'] = ''\n",
    "#f['Precip (mm)'] = ''\n",
    "f['Humidity'] = ''\n",
    "f['Visibility'] = ''\n",
    "f['Pressure'] = ''\n",
    "f['Cloud Cover'] = ''\n",
    "f['Heat Index (F)'] = ''\n",
    "f['Dew Point (F)'] = ''\n",
    "f['Wind Chill (F)'] = ''\n",
    "f['Wind Gust (mph)'] = ''"
   ]
  },
  {
   "cell_type": "code",
   "execution_count": null,
   "metadata": {
    "scrolled": true
   },
   "outputs": [],
   "source": [
    "for index,row in f.iterrows():\n",
    "    coord = row['coord']\n",
    "    start = row['Start Date']\n",
    "    end = row['End Date']\n",
    "    tp = '24'\n",
    "\n",
    "    maxtF = []\n",
    "    mintF = []\n",
    "    wind = []\n",
    "   # precip_list = []\n",
    "    hum_list = []\n",
    "    vis_list = []\n",
    "    pres_list = []\n",
    "    clou_list = []\n",
    "    heat_list = []\n",
    "    dew_list = []\n",
    "    wind_chill_list = []\n",
    "    wind_gust_list = []\n",
    "\n",
    "    url = ('http://api.worldweatheronline.com/premium/v1/past-weather.ashx?key={0}&q={1},{2}&format=json&date={3}&tp={4}'\n",
    "          ).format(weather,coord[0],coord[1],start,tp)\n",
    "    weather_data = requests.get(url).json()\n",
    "    \n",
    "    for i in range(0,1):\n",
    "        max_temp = int(weather_data['data']['weather'][i]['maxtempF'])\n",
    "        maxtF.append(max_temp)\n",
    "        min_temp = int(weather_data['data']['weather'][i]['mintempF'])\n",
    "        mintF.append(min_temp)\n",
    "        wind_speed = int(weather_data['data']['weather'][i]['hourly'][0]['windspeedMiles'])\n",
    "        wind.append(wind_speed)\n",
    "        #precip = weather_data['data']['weather'][i]['hourly'][0]['precipMM']\n",
    "        #precip_list.append(precip)\n",
    "        humidity = int(weather_data['data']['weather'][i]['hourly'][0]['humidity'])\n",
    "        hum_list.append(humidity)\n",
    "        visibility = int(weather_data['data']['weather'][i]['hourly'][0]['visibility'])\n",
    "        vis_list.append(visibility)\n",
    "        pressure = int(weather_data['data']['weather'][i]['hourly'][0]['pressure'])\n",
    "        pres_list.append(pressure)\n",
    "        cloud_cover = int(weather_data['data']['weather'][i]['hourly'][0]['cloudcover'])\n",
    "        clou_list.append(cloud_cover)\n",
    "        heat_index = int(weather_data['data']['weather'][i]['hourly'][0]['HeatIndexF'])\n",
    "        heat_list.append(heat_index)\n",
    "        dew_point = int(weather_data['data']['weather'][i]['hourly'][0]['DewPointF'])\n",
    "        dew_list.append(dew_point)\n",
    "        wind_chill = int(weather_data['data']['weather'][i]['hourly'][0]['WindChillF'])\n",
    "        wind_chill_list.append(wind_chill)\n",
    "        wind_gust = int(weather_data['data']['weather'][i]['hourly'][0]['WindGustMiles'])\n",
    "        wind_gust_list.append(wind_gust)\n",
    "    max_temp_mean = pd.DataFrame({'max':maxtF}).mean()\n",
    "    min_temp_mean = pd.DataFrame({'min':mintF}).mean()\n",
    "    wind_speed_mean = pd.DataFrame({'wind_speed':wind}).mean()\n",
    "    #precip_mean = pd.DataFrame({'precip':precip_list}).mean()\n",
    "    hum_mean = pd.DataFrame({'hum':hum_list}).mean()\n",
    "    visib_mean = pd.DataFrame({'vis':vis_list}).mean()\n",
    "    pres_mean = pd.DataFrame({'pres': pres_list}).mean()\n",
    "    clou_mean = pd.DataFrame({'cloud':clou_list}).mean()\n",
    "    heat_index_mean = pd.DataFrame({'heat':heat_list}).mean()\n",
    "    dew_mean = pd.DataFrame({'dew':dew_list}).mean()\n",
    "    wind_chill_mean = pd.DataFrame({'wchill':wind_chill_list}).mean()\n",
    "    wind_gust_mean = pd.DataFrame({'wgust':wind_gust_list}).mean()\n",
    "    f.loc[index,'Max Temp (F)'] = int(max_temp_mean)\n",
    "    f.loc[index, 'Min Temp (F)'] = int(min_temp_mean)\n",
    "    f.loc[index, 'Wind Speed (mph)'] = int(wind_speed_mean)\n",
    "    #f.loc[index, 'Precip (mm)'] = precip_mean\n",
    "    f.loc[index, 'Humidity'] = int(hum_mean)\n",
    "    f.loc[index, 'Visibility'] = int(visib_mean)\n",
    "    f.loc[index, 'Pressure'] = int(pres_mean)\n",
    "    f.loc[index, 'Cloud Cover'] = int(clou_mean)\n",
    "    f.loc[index, 'Heat Index (F)'] = int(heat_index_mean)\n",
    "    f.loc[index, 'Dew Point (F)'] = int(dew_mean)\n",
    "    f.loc[index, 'Wind Chill (F)'] = int(wind_chill_mean)\n",
    "    f.loc[index, 'Wind Gust (mph)'] = int(wind_gust_mean)\n",
    "    "
   ]
  },
  {
   "cell_type": "code",
   "execution_count": null,
   "metadata": {},
   "outputs": [],
   "source": [
    "f.columns"
   ]
  },
  {
   "cell_type": "code",
   "execution_count": null,
   "metadata": {
    "scrolled": true
   },
   "outputs": [],
   "source": [
    "y = f['Magnitude']\n",
    "x = f[['Pressure', 'Dew Point (F)',\n",
    "       'Wind Gust (mph)']]"
   ]
  },
  {
   "cell_type": "code",
   "execution_count": null,
   "metadata": {},
   "outputs": [],
   "source": [
    "X_train, X_test, y_train, y_test = train_test_split(x,y,test_size = .2)"
   ]
  },
  {
   "cell_type": "code",
   "execution_count": null,
   "metadata": {},
   "outputs": [],
   "source": [
    "lm = linear_model.LinearRegression()\n",
    "model = lm.fit(X_train, y_train)\n",
    "predictions = lm.predict(X_test)"
   ]
  },
  {
   "cell_type": "code",
   "execution_count": null,
   "metadata": {},
   "outputs": [],
   "source": [
    "X2 = sm.add_constant(x)\n",
    "est = sm.OLS(y, X2)\n",
    "est2 = est.fit()\n",
    "print(est2.summary())"
   ]
  },
  {
   "cell_type": "code",
   "execution_count": null,
   "metadata": {},
   "outputs": [],
   "source": [
    "correlation = f.corr()\n",
    "correlation"
   ]
  },
  {
   "cell_type": "code",
   "execution_count": null,
   "metadata": {},
   "outputs": [],
   "source": []
  }
 ],
 "metadata": {
  "kernelspec": {
   "display_name": "Python 3",
   "language": "python",
   "name": "python3"
  },
  "language_info": {
   "codemirror_mode": {
    "name": "ipython",
    "version": 3
   },
   "file_extension": ".py",
   "mimetype": "text/x-python",
   "name": "python",
   "nbconvert_exporter": "python",
   "pygments_lexer": "ipython3",
   "version": "3.7.0"
  }
 },
 "nbformat": 4,
 "nbformat_minor": 2
}
