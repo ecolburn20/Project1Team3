{
 "cells": [
  {
   "cell_type": "code",
   "execution_count": 261,
   "metadata": {},
   "outputs": [],
   "source": [
    "import sys\n",
    "sys.path.append('')\n",
    "import json\n",
    "import requests\n",
    "import csv\n",
    "import matplotlib.pyplot as plt\n",
    "import pandas as pd\n",
    "import numpy as np\n",
    "import matplotlib.cm as cm\n",
    "import matplotlib.colors as colors\n",
    "from pprint import pprint\n",
    "from config import weather\n",
    "from datetime import datetime, timezone, timedelta\n",
    "from sklearn.model_selection import train_test_split\n",
    "from sklearn import datasets, linear_model\n",
    "import statsmodels.api as sm\n",
    "from scipy import stats\n",
    "import scipy.stats as scp\n",
    "from scipy.stats import norm\n",
    "from scipy.optimize import curve_fit\n",
    "from scipy.stats import expon"
   ]
  },
  {
   "cell_type": "code",
   "execution_count": 262,
   "metadata": {},
   "outputs": [],
   "source": [
    "data = pd.read_excel('Tornado_Data_2009to2015_byMag.xlsx')"
   ]
  },
  {
   "cell_type": "code",
   "execution_count": 263,
   "metadata": {},
   "outputs": [
    {
     "data": {
      "text/html": [
       "<div>\n",
       "<style scoped>\n",
       "    .dataframe tbody tr th:only-of-type {\n",
       "        vertical-align: middle;\n",
       "    }\n",
       "\n",
       "    .dataframe tbody tr th {\n",
       "        vertical-align: top;\n",
       "    }\n",
       "\n",
       "    .dataframe thead th {\n",
       "        text-align: right;\n",
       "    }\n",
       "</style>\n",
       "<table border=\"1\" class=\"dataframe\">\n",
       "  <thead>\n",
       "    <tr style=\"text-align: right;\">\n",
       "      <th></th>\n",
       "      <th>Tornado Number per Year</th>\n",
       "      <th>Year</th>\n",
       "      <th>Month</th>\n",
       "      <th>Day</th>\n",
       "      <th>Date</th>\n",
       "      <th>Time</th>\n",
       "      <th>TimeZone</th>\n",
       "      <th>State</th>\n",
       "      <th>State FIPS Number</th>\n",
       "      <th>Number of Tornado per State per Year</th>\n",
       "      <th>...</th>\n",
       "      <th>Fatalities</th>\n",
       "      <th>Property Loss ($)</th>\n",
       "      <th>Crop Loss (millions $)</th>\n",
       "      <th>Starting Latitude</th>\n",
       "      <th>Starting Longitude</th>\n",
       "      <th>Ending Latitude</th>\n",
       "      <th>Ending Longitude</th>\n",
       "      <th>Length (miles)</th>\n",
       "      <th>Width (yards)</th>\n",
       "      <th>fc</th>\n",
       "    </tr>\n",
       "  </thead>\n",
       "  <tbody>\n",
       "    <tr>\n",
       "      <th>0</th>\n",
       "      <td>6</td>\n",
       "      <td>2009</td>\n",
       "      <td>1</td>\n",
       "      <td>24</td>\n",
       "      <td>2009-01-24</td>\n",
       "      <td>17:00:00</td>\n",
       "      <td>3</td>\n",
       "      <td>CA</td>\n",
       "      <td>6</td>\n",
       "      <td>0</td>\n",
       "      <td>...</td>\n",
       "      <td>0</td>\n",
       "      <td>0.1</td>\n",
       "      <td>0.0</td>\n",
       "      <td>39.36</td>\n",
       "      <td>-122.04</td>\n",
       "      <td>39.36</td>\n",
       "      <td>-122.04</td>\n",
       "      <td>0.10</td>\n",
       "      <td>40</td>\n",
       "      <td>0</td>\n",
       "    </tr>\n",
       "    <tr>\n",
       "      <th>1</th>\n",
       "      <td>7</td>\n",
       "      <td>2009</td>\n",
       "      <td>2</td>\n",
       "      <td>9</td>\n",
       "      <td>2009-02-09</td>\n",
       "      <td>13:32:00</td>\n",
       "      <td>3</td>\n",
       "      <td>CA</td>\n",
       "      <td>6</td>\n",
       "      <td>0</td>\n",
       "      <td>...</td>\n",
       "      <td>0</td>\n",
       "      <td>0.0</td>\n",
       "      <td>0.0</td>\n",
       "      <td>37.21</td>\n",
       "      <td>-120.60</td>\n",
       "      <td>37.21</td>\n",
       "      <td>-120.60</td>\n",
       "      <td>0.10</td>\n",
       "      <td>20</td>\n",
       "      <td>0</td>\n",
       "    </tr>\n",
       "    <tr>\n",
       "      <th>2</th>\n",
       "      <td>8</td>\n",
       "      <td>2009</td>\n",
       "      <td>2</td>\n",
       "      <td>10</td>\n",
       "      <td>2009-02-10</td>\n",
       "      <td>14:36:00</td>\n",
       "      <td>3</td>\n",
       "      <td>OK</td>\n",
       "      <td>40</td>\n",
       "      <td>0</td>\n",
       "      <td>...</td>\n",
       "      <td>0</td>\n",
       "      <td>1.0</td>\n",
       "      <td>0.0</td>\n",
       "      <td>35.56</td>\n",
       "      <td>-97.64</td>\n",
       "      <td>35.56</td>\n",
       "      <td>-97.63</td>\n",
       "      <td>0.66</td>\n",
       "      <td>75</td>\n",
       "      <td>0</td>\n",
       "    </tr>\n",
       "    <tr>\n",
       "      <th>3</th>\n",
       "      <td>9</td>\n",
       "      <td>2009</td>\n",
       "      <td>2</td>\n",
       "      <td>10</td>\n",
       "      <td>2009-02-10</td>\n",
       "      <td>14:53:00</td>\n",
       "      <td>3</td>\n",
       "      <td>OK</td>\n",
       "      <td>40</td>\n",
       "      <td>0</td>\n",
       "      <td>...</td>\n",
       "      <td>0</td>\n",
       "      <td>0.0</td>\n",
       "      <td>0.0</td>\n",
       "      <td>35.66</td>\n",
       "      <td>-97.53</td>\n",
       "      <td>35.73</td>\n",
       "      <td>-97.47</td>\n",
       "      <td>5.72</td>\n",
       "      <td>250</td>\n",
       "      <td>0</td>\n",
       "    </tr>\n",
       "    <tr>\n",
       "      <th>4</th>\n",
       "      <td>10</td>\n",
       "      <td>2009</td>\n",
       "      <td>2</td>\n",
       "      <td>10</td>\n",
       "      <td>2009-02-10</td>\n",
       "      <td>15:24:00</td>\n",
       "      <td>3</td>\n",
       "      <td>OK</td>\n",
       "      <td>40</td>\n",
       "      <td>0</td>\n",
       "      <td>...</td>\n",
       "      <td>0</td>\n",
       "      <td>0.0</td>\n",
       "      <td>0.0</td>\n",
       "      <td>35.86</td>\n",
       "      <td>-97.28</td>\n",
       "      <td>35.87</td>\n",
       "      <td>-97.28</td>\n",
       "      <td>1.00</td>\n",
       "      <td>10</td>\n",
       "      <td>0</td>\n",
       "    </tr>\n",
       "  </tbody>\n",
       "</table>\n",
       "<p>5 rows × 22 columns</p>\n",
       "</div>"
      ],
      "text/plain": [
       "   Tornado Number per Year  Year  Month  Day       Date      Time  TimeZone  \\\n",
       "0                        6  2009      1   24 2009-01-24  17:00:00         3   \n",
       "1                        7  2009      2    9 2009-02-09  13:32:00         3   \n",
       "2                        8  2009      2   10 2009-02-10  14:36:00         3   \n",
       "3                        9  2009      2   10 2009-02-10  14:53:00         3   \n",
       "4                       10  2009      2   10 2009-02-10  15:24:00         3   \n",
       "\n",
       "  State  State FIPS Number  Number of Tornado per State per Year ...  \\\n",
       "0    CA                  6                                     0 ...   \n",
       "1    CA                  6                                     0 ...   \n",
       "2    OK                 40                                     0 ...   \n",
       "3    OK                 40                                     0 ...   \n",
       "4    OK                 40                                     0 ...   \n",
       "\n",
       "   Fatalities  Property Loss ($)  Crop Loss (millions $)  Starting Latitude  \\\n",
       "0           0                0.1                     0.0              39.36   \n",
       "1           0                0.0                     0.0              37.21   \n",
       "2           0                1.0                     0.0              35.56   \n",
       "3           0                0.0                     0.0              35.66   \n",
       "4           0                0.0                     0.0              35.86   \n",
       "\n",
       "   Starting Longitude  Ending Latitude  Ending Longitude  Length (miles)  \\\n",
       "0             -122.04            39.36           -122.04            0.10   \n",
       "1             -120.60            37.21           -120.60            0.10   \n",
       "2              -97.64            35.56            -97.63            0.66   \n",
       "3              -97.53            35.73            -97.47            5.72   \n",
       "4              -97.28            35.87            -97.28            1.00   \n",
       "\n",
       "   Width (yards)  fc  \n",
       "0             40   0  \n",
       "1             20   0  \n",
       "2             75   0  \n",
       "3            250   0  \n",
       "4             10   0  \n",
       "\n",
       "[5 rows x 22 columns]"
      ]
     },
     "execution_count": 263,
     "metadata": {},
     "output_type": "execute_result"
    }
   ],
   "source": [
    "\n",
    "test = data\n",
    "#test = data.iloc[25:51]\n",
    "test.head()"
   ]
  },
  {
   "cell_type": "code",
   "execution_count": 274,
   "metadata": {},
   "outputs": [
    {
     "data": {
      "text/plain": [
       "<matplotlib.legend.Legend at 0x2b3e31e0a90>"
      ]
     },
     "execution_count": 274,
     "metadata": {},
     "output_type": "execute_result"
    },
    {
     "data": {
      "image/png": "[encoded data removed]",
      "text/plain": [
       "<Figure size 432x288 with 1 Axes>"
      ]
     },
     "metadata": {
      "needs_background": "light"
     },
     "output_type": "display_data"
    }
   ],
   "source": [
    "length_norm = (mean['Length (miles)'] - mean['Length (miles)'].mean()) / (mean['Length (miles)'].max() \n",
    "                                                                          - mean['Length (miles)'].min())\n",
    "prop_norm = (mean['Property Loss ($)'] - mean['Property Loss ($)'].mean()) / (mean['Property Loss ($)'].max() \n",
    "                                                                          - mean['Property Loss ($)'].min())\n",
    "inj_norm = (mean['Injuries'] - mean['Injuries'].mean()) / (mean['Injuries'].max() \n",
    "                                                                          - mean['Injuries'].min())\n",
    "plt.plot(mean['Magnitude'],length_norm)\n",
    "plt.plot(mean['Magnitude'],prop_norm)\n",
    "plt.plot(mean['Magnitude'],inj_norm)\n",
    "plt.legend()"
   ]
  },
  {
   "cell_type": "code",
   "execution_count": 264,
   "metadata": {},
   "outputs": [],
   "source": [
    "def func(x, a, b):\n",
    "    return a * np.exp(b * x)"
   ]
  },
  {
   "cell_type": "code",
   "execution_count": 276,
   "metadata": {
    "scrolled": true
   },
   "outputs": [
    {
     "data": {
      "text/plain": [
       "[<matplotlib.lines.Line2D at 0x2b3de0bc940>]"
      ]
     },
     "execution_count": 276,
     "metadata": {},
     "output_type": "execute_result"
    },
    {
     "data": {
      "image/png": "[encoded data removed]",
      "text/plain": [
       "<Figure size 432x288 with 1 Axes>"
      ]
     },
     "metadata": {
      "needs_background": "light"
     },
     "output_type": "display_data"
    }
   ],
   "source": [
    "mean = test.groupby('Magnitude').mean()\n",
    "mean = mean.reset_index()\n",
    "\n",
    "plt.plot(mean['Magnitude'],mean['Injuries'])\n",
    "\n",
    "xdata = mean['Magnitude']\n",
    "ydata = mean['Injuries']\n",
    "popt, pcov = curve_fit(func, xdata, ydata)\n",
    "\n",
    "#plt.plot(x, func(x, *popt), label=\"Fitted Curve\")\n",
    "var = []\n",
    "for i in range(0,6):\n",
    "    g=popt[0]*np.exp(popt[1]*i)\n",
    "  #  if g < 0:\n",
    "   #     g = 0.1\n",
    "    var.append(g)\n",
    "plt.plot(mean['Magnitude'],var,label='Exponential Best Fit')\n"
   ]
  },
  {
   "cell_type": "code",
   "execution_count": 266,
   "metadata": {},
   "outputs": [
    {
     "data": {
      "text/html": [
       "<div>\n",
       "<style scoped>\n",
       "    .dataframe tbody tr th:only-of-type {\n",
       "        vertical-align: middle;\n",
       "    }\n",
       "\n",
       "    .dataframe tbody tr th {\n",
       "        vertical-align: top;\n",
       "    }\n",
       "\n",
       "    .dataframe thead th {\n",
       "        text-align: right;\n",
       "    }\n",
       "</style>\n",
       "<table border=\"1\" class=\"dataframe\">\n",
       "  <thead>\n",
       "    <tr style=\"text-align: right;\">\n",
       "      <th></th>\n",
       "      <th>Observed</th>\n",
       "      <th>Expected</th>\n",
       "    </tr>\n",
       "  </thead>\n",
       "  <tbody>\n",
       "    <tr>\n",
       "      <th>0</th>\n",
       "      <td>0.020381</td>\n",
       "      <td>0.300183</td>\n",
       "    </tr>\n",
       "    <tr>\n",
       "      <th>1</th>\n",
       "      <td>0.170655</td>\n",
       "      <td>1.163036</td>\n",
       "    </tr>\n",
       "    <tr>\n",
       "      <th>2</th>\n",
       "      <td>1.702247</td>\n",
       "      <td>4.506093</td>\n",
       "    </tr>\n",
       "    <tr>\n",
       "      <th>3</th>\n",
       "      <td>11.608247</td>\n",
       "      <td>17.458503</td>\n",
       "    </tr>\n",
       "    <tr>\n",
       "      <th>4</th>\n",
       "      <td>71.296296</td>\n",
       "      <td>67.641598</td>\n",
       "    </tr>\n",
       "    <tr>\n",
       "      <th>5</th>\n",
       "      <td>261.571429</td>\n",
       "      <td>262.072055</td>\n",
       "    </tr>\n",
       "  </tbody>\n",
       "</table>\n",
       "</div>"
      ],
      "text/plain": [
       "     Observed    Expected\n",
       "0    0.020381    0.300183\n",
       "1    0.170655    1.163036\n",
       "2    1.702247    4.506093\n",
       "3   11.608247   17.458503\n",
       "4   71.296296   67.641598\n",
       "5  261.571429  262.072055"
      ]
     },
     "execution_count": 266,
     "metadata": {},
     "output_type": "execute_result"
    }
   ],
   "source": [
    "expected_injuries = pd.DataFrame({'Expected':var})\n",
    "observed_injuries = pd.DataFrame({'Observed':mean['Injuries']})\n",
    "injuries = pd.DataFrame()\n",
    "injuries['Observed']= observed_injuries['Observed']\n",
    "injuries['Expected']= expected_injuries['Expected']\n",
    "injuries\n"
   ]
  },
  {
   "cell_type": "code",
   "execution_count": 267,
   "metadata": {},
   "outputs": [
    {
     "data": {
      "text/plain": [
       "11.070497693516351"
      ]
     },
     "execution_count": 267,
     "metadata": {},
     "output_type": "execute_result"
    }
   ],
   "source": [
    "critical_value = stats.chi2.ppf(q = 0.95, df = 5)\n",
    "critical_value"
   ]
  },
  {
   "cell_type": "code",
   "execution_count": 306,
   "metadata": {},
   "outputs": [
    {
     "name": "stdout",
     "output_type": "stream",
     "text": [
      "Statistic: 5.011032477292838\n",
      "P-Value: 0.4145352526599477\n",
      "Critical Value: 11.070497693516351\n",
      "Fail to reject null hypothesis because statistic is smaller than the critical value.\n"
     ]
    }
   ],
   "source": [
    "q = stats.chisquare(injuries['Observed'], injuries['Expected'])\n",
    "if q[0] > critical_value:\n",
    "    print('Statistic: ' + str(q[0]) + '\\nP-Value: ' + str(q[1]) + '\\nCritical Value: ' + str(critical_value) +\n",
    "          '\\nReject null hypothesis because statistic is larger than the critical value.')\n",
    "else:\n",
    "    print('Statistic: ' + str(q[0]) + '\\nP-Value: ' + str(q[1]) + '\\nCritical Value: ' + str(critical_value) +\n",
    "    '\\nFail to reject null hypothesis because statistic is smaller than the critical value.')"
   ]
  },
  {
   "cell_type": "code",
   "execution_count": null,
   "metadata": {},
   "outputs": [],
   "source": []
  },
  {
   "cell_type": "code",
   "execution_count": 275,
   "metadata": {},
   "outputs": [
    {
     "data": {
      "text/plain": [
       "<matplotlib.legend.Legend at 0x2b3e468ea58>"
      ]
     },
     "execution_count": 275,
     "metadata": {},
     "output_type": "execute_result"
    },
    {
     "data": {
      "image/png": "[encoded data removed]",
      "text/plain": [
       "<Figure size 432x288 with 1 Axes>"
      ]
     },
     "metadata": {
      "needs_background": "light"
     },
     "output_type": "display_data"
    }
   ],
   "source": [
    "plt.plot(mean['Magnitude'],mean['Property Loss ($)'])\n",
    "\n",
    "xdata = mean['Magnitude']\n",
    "ydata = mean['Property Loss ($)']\n",
    "popt1, pcov = curve_fit(func, xdata, ydata)\n",
    "\n",
    "#plt.plot(x, func(x, *popt), label=\"Fitted Curve\")\n",
    "var1 = []\n",
    "for i in range(0,6):\n",
    "    g=popt1[0]*np.exp(popt1[1]*i)\n",
    "  #  if g < 0:\n",
    "   #     g = 0.1\n",
    "    var1.append(g)\n",
    "plt.plot(mean['Magnitude'],var1,label='Exponential Best Fit')\n",
    "plt.legend()"
   ]
  },
  {
   "cell_type": "code",
   "execution_count": 271,
   "metadata": {},
   "outputs": [
    {
     "data": {
      "text/html": [
       "<div>\n",
       "<style scoped>\n",
       "    .dataframe tbody tr th:only-of-type {\n",
       "        vertical-align: middle;\n",
       "    }\n",
       "\n",
       "    .dataframe tbody tr th {\n",
       "        vertical-align: top;\n",
       "    }\n",
       "\n",
       "    .dataframe thead th {\n",
       "        text-align: right;\n",
       "    }\n",
       "</style>\n",
       "<table border=\"1\" class=\"dataframe\">\n",
       "  <thead>\n",
       "    <tr style=\"text-align: right;\">\n",
       "      <th></th>\n",
       "      <th>Observed</th>\n",
       "      <th>Expected</th>\n",
       "    </tr>\n",
       "  </thead>\n",
       "  <tbody>\n",
       "    <tr>\n",
       "      <th>0</th>\n",
       "      <td>0.018327</td>\n",
       "      <td>0.020177</td>\n",
       "    </tr>\n",
       "    <tr>\n",
       "      <th>1</th>\n",
       "      <td>0.790588</td>\n",
       "      <td>0.170609</td>\n",
       "    </tr>\n",
       "    <tr>\n",
       "      <th>2</th>\n",
       "      <td>2.772346</td>\n",
       "      <td>1.442621</td>\n",
       "    </tr>\n",
       "    <tr>\n",
       "      <th>3</th>\n",
       "      <td>13.521237</td>\n",
       "      <td>12.198368</td>\n",
       "    </tr>\n",
       "    <tr>\n",
       "      <th>4</th>\n",
       "      <td>102.772963</td>\n",
       "      <td>103.145751</td>\n",
       "    </tr>\n",
       "    <tr>\n",
       "      <th>5</th>\n",
       "      <td>872.192857</td>\n",
       "      <td>872.169593</td>\n",
       "    </tr>\n",
       "  </tbody>\n",
       "</table>\n",
       "</div>"
      ],
      "text/plain": [
       "     Observed    Expected\n",
       "0    0.018327    0.020177\n",
       "1    0.790588    0.170609\n",
       "2    2.772346    1.442621\n",
       "3   13.521237   12.198368\n",
       "4  102.772963  103.145751\n",
       "5  872.192857  872.169593"
      ]
     },
     "execution_count": 271,
     "metadata": {},
     "output_type": "execute_result"
    }
   ],
   "source": [
    "expected_prop = pd.DataFrame({'Expected':var1})\n",
    "observed_prop = pd.DataFrame({'Observed':mean['Property Loss ($)']})\n",
    "property_loss = pd.DataFrame()\n",
    "property_loss['Observed']= observed_prop['Observed']\n",
    "property_loss['Expected']= expected_prop['Expected']\n",
    "property_loss"
   ]
  },
  {
   "cell_type": "code",
   "execution_count": 272,
   "metadata": {},
   "outputs": [
    {
     "data": {
      "text/plain": [
       "11.070497693516351"
      ]
     },
     "execution_count": 272,
     "metadata": {},
     "output_type": "execute_result"
    }
   ],
   "source": [
    "critical_value = stats.chi2.ppf(q = 0.95, df = 5)\n",
    "critical_value"
   ]
  },
  {
   "cell_type": "code",
   "execution_count": 305,
   "metadata": {},
   "outputs": [
    {
     "name": "stdout",
     "output_type": "stream",
     "text": [
      "Statistic: 5.011032477292838\n",
      "P-Value: 0.4145352526599477\n",
      "Critical Value: 11.070497693516351\n",
      "Fail to reject null hypothesis because statistic is smaller than the critical value.\n"
     ]
    }
   ],
   "source": [
    "q = stats.chisquare(injuries['Observed'], injuries['Expected'])\n",
    "if q[0] > critical_value:\n",
    "    print('Statistic: ' + str(q[0]) + '\\nP-Value: ' + str(q[1]) + '\\nCritical Value: ' + str(critical_value) +\n",
    "          '\\nReject null hypothesis because statistic is larger than the critical value.')\n",
    "else:\n",
    "    print('Statistic: ' + str(q[0]) + '\\nP-Value: ' + str(q[1]) + '\\nCritical Value: ' + str(critical_value) +\n",
    "    '\\nFail to reject null hypothesis because statistic is smaller than the critical value.')"
   ]
  },
  {
   "cell_type": "code",
   "execution_count": null,
   "metadata": {},
   "outputs": [],
   "source": [
    "def func1(x, a, b):\n",
    "    return ax + b"
   ]
  },
  {
   "cell_type": "code",
   "execution_count": 281,
   "metadata": {},
   "outputs": [
    {
     "data": {
      "text/plain": [
       "<matplotlib.legend.Legend at 0x2b3e2c92208>"
      ]
     },
     "execution_count": 281,
     "metadata": {},
     "output_type": "execute_result"
    },
    {
     "data": {
      "image/png": "[encoded data removed]",
      "text/plain": [
       "<Figure size 432x288 with 1 Axes>"
      ]
     },
     "metadata": {
      "needs_background": "light"
     },
     "output_type": "display_data"
    }
   ],
   "source": [
    "plt.plot(mean['Magnitude'],mean['Length (miles)'])\n",
    "\n",
    "xdata = mean['Magnitude']\n",
    "ydata = mean['Length (miles)']\n",
    "popt2, pcov = curve_fit(func, xdata, ydata)\n",
    "\n",
    "#plt.plot(x, func(x, *popt), label=\"Fitted Curve\")\n",
    "var2 = []\n",
    "for i in range(0,6):\n",
    "    g=popt2[0]*i + popt2[1]\n",
    "  #  if g < 0:\n",
    "   #     g = 0.1\n",
    "    var2.append(g)\n",
    "plt.plot(mean['Magnitude'],var2,label='Exponential Best Fit')\n",
    "plt.legend()"
   ]
  },
  {
   "cell_type": "code",
   "execution_count": 283,
   "metadata": {},
   "outputs": [
    {
     "data": {
      "text/html": [
       "<div>\n",
       "<style scoped>\n",
       "    .dataframe tbody tr th:only-of-type {\n",
       "        vertical-align: middle;\n",
       "    }\n",
       "\n",
       "    .dataframe tbody tr th {\n",
       "        vertical-align: top;\n",
       "    }\n",
       "\n",
       "    .dataframe thead th {\n",
       "        text-align: right;\n",
       "    }\n",
       "</style>\n",
       "<table border=\"1\" class=\"dataframe\">\n",
       "  <thead>\n",
       "    <tr style=\"text-align: right;\">\n",
       "      <th></th>\n",
       "      <th>Observed</th>\n",
       "      <th>Expected</th>\n",
       "    </tr>\n",
       "  </thead>\n",
       "  <tbody>\n",
       "    <tr>\n",
       "      <th>0</th>\n",
       "      <td>1.360408</td>\n",
       "      <td>0.519050</td>\n",
       "    </tr>\n",
       "    <tr>\n",
       "      <th>1</th>\n",
       "      <td>4.318160</td>\n",
       "      <td>4.202895</td>\n",
       "    </tr>\n",
       "    <tr>\n",
       "      <th>2</th>\n",
       "      <td>8.620913</td>\n",
       "      <td>7.886740</td>\n",
       "    </tr>\n",
       "    <tr>\n",
       "      <th>3</th>\n",
       "      <td>18.319742</td>\n",
       "      <td>11.570586</td>\n",
       "    </tr>\n",
       "    <tr>\n",
       "      <th>4</th>\n",
       "      <td>33.304815</td>\n",
       "      <td>15.254431</td>\n",
       "    </tr>\n",
       "    <tr>\n",
       "      <th>5</th>\n",
       "      <td>47.511429</td>\n",
       "      <td>18.938276</td>\n",
       "    </tr>\n",
       "  </tbody>\n",
       "</table>\n",
       "</div>"
      ],
      "text/plain": [
       "    Observed   Expected\n",
       "0   1.360408   0.519050\n",
       "1   4.318160   4.202895\n",
       "2   8.620913   7.886740\n",
       "3  18.319742  11.570586\n",
       "4  33.304815  15.254431\n",
       "5  47.511429  18.938276"
      ]
     },
     "execution_count": 283,
     "metadata": {},
     "output_type": "execute_result"
    }
   ],
   "source": [
    "expected_length = pd.DataFrame({'Expected':var2})\n",
    "observed_length = pd.DataFrame({'Observed':mean['Length (miles)']})\n",
    "length = pd.DataFrame()\n",
    "length['Observed']= observed_length['Observed']\n",
    "length['Expected']= expected_length['Expected']\n",
    "length"
   ]
  },
  {
   "cell_type": "code",
   "execution_count": 284,
   "metadata": {},
   "outputs": [
    {
     "data": {
      "text/plain": [
       "11.070497693516351"
      ]
     },
     "execution_count": 284,
     "metadata": {},
     "output_type": "execute_result"
    }
   ],
   "source": [
    "critical_value = stats.chi2.ppf(q = 0.95, df = 5)\n",
    "critical_value"
   ]
  },
  {
   "cell_type": "code",
   "execution_count": 304,
   "metadata": {},
   "outputs": [
    {
     "name": "stdout",
     "output_type": "stream",
     "text": [
      "Statistic: 69.8406996837904\n",
      "P-Value: 1.106074751037805e-13\n",
      "Critical Value: 11.070497693516351\n",
      "Reject null hypothesis because statistic is larger than the critical value.\n"
     ]
    }
   ],
   "source": [
    "q = stats.chisquare(length['Observed'], length['Expected'])\n",
    "if q[0] > critical_value:\n",
    "    print('Statistic: ' + str(q[0]) + '\\nP-Value: ' + str(q[1]) + '\\nCritical Value: ' + str(critical_value) +\n",
    "          '\\nReject null hypothesis because statistic is larger than the critical value.')\n",
    "else:\n",
    "    print('Statistic: ' + str(q[0]) + '\\nP-Value: ' + str(q[1]) + '\\nCritical Value: ' + str(critical_value) +\n",
    "    '\\nFail to reject null hypothesis because statistic is smaller than the critical value.')"
   ]
  },
  {
   "cell_type": "code",
   "execution_count": null,
   "metadata": {},
   "outputs": [],
   "source": []
  }
 ],
 "metadata": {
  "kernelspec": {
   "display_name": "Python 3",
   "language": "python",
   "name": "python3"
  },
  "language_info": {
   "codemirror_mode": {
    "name": "ipython",
    "version": 3
   },
   "file_extension": ".py",
   "mimetype": "text/x-python",
   "name": "python",
   "nbconvert_exporter": "python",
   "pygments_lexer": "ipython3",
   "version": "3.7.0"
  }
 },
 "nbformat": 4,
 "nbformat_minor": 2
}
